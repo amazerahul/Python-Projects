{
 "cells": [
  {
   "cell_type": "code",
   "execution_count": 1,
   "metadata": {},
   "outputs": [],
   "source": [
    "# Import random library to generate random numbers\n",
    "import random\n",
    "\n",
    "# Generate random number\n",
    "randn = random.randrange(1,100)"
   ]
  },
  {
   "cell_type": "code",
   "execution_count": 2,
   "metadata": {},
   "outputs": [],
   "source": [
    "# Function to get the multiple of a number\n",
    "def multiple(n):\n",
    "    multiples = [i for i in range(2, int(n/2)) if n%i == 0]\n",
    "    if len(multiples) != 0 :\n",
    "        return multiples[random.randrange(0, len(multiples))]\n",
    "    else:\n",
    "        return 1"
   ]
  },
  {
   "cell_type": "code",
   "execution_count": 3,
   "metadata": {},
   "outputs": [],
   "source": [
    "# This function helps the user to guess the number\n",
    "def hint(randn, n):\n",
    "    switcher = {\n",
    "            1 : \"Number is greater than {}\".format(randn-random.randrange(1,10)),\n",
    "            2 : \"Number is smaller than {}\".format(randn+random.randrange(1,10)),\n",
    "            3 : \"Number is a multiple of {}\".format(multiple(randn))\n",
    "        }\n",
    "    return switcher.get(n)"
   ]
  },
  {
   "cell_type": "code",
   "execution_count": 4,
   "metadata": {},
   "outputs": [],
   "source": [
    "# Game function\n",
    "def game():\n",
    "    score = 10\n",
    "    for i in range(10):\n",
    "        guess = int(input('Enter your {} guess : '.format(i+1)))\n",
    "        if guess == randn:\n",
    "            print(\"\\nHurray!! you got it right and your score is : {} out of 10\".format(score))\n",
    "            break\n",
    "        else:\n",
    "            if(i == 9):\n",
    "                score = score - 1\n",
    "            else:\n",
    "                print(hint(randn, random.randrange(1,4)))\n",
    "                score = score - 1\n",
    "    if(i == 9):\n",
    "        print(\"\\nOoops!! you didn't got it right. Better luck next time and you score is : {}\".format(score))"
   ]
  },
  {
   "cell_type": "code",
   "execution_count": 5,
   "metadata": {},
   "outputs": [
    {
     "name": "stdout",
     "output_type": "stream",
     "text": [
      "\t\t\t\t\t\tWelcome to \"Guess the number challenge\"\n",
      "\n",
      "In this game you have to guess the number and for that you will get 10 chances and each time you get it wrong ahit will be generated to help you out.\n",
      "\t\t\t\t\t\t\tLets get started!!!\n",
      "Enter your 1 guess : 12\n",
      "Number is smaller than 70\n",
      "Enter your 2 guess : 56\n",
      "Number is smaller than 68\n",
      "Enter your 3 guess : 67\n",
      "Number is smaller than 73\n",
      "Enter your 4 guess : 45\n",
      "Number is greater than 55\n",
      "Enter your 5 guess : 62\n",
      "Number is a multiple of 4\n",
      "Enter your 6 guess : 40\n",
      "Number is greater than 60\n",
      "Enter your 7 guess : 64\n",
      "\n",
      "Hurray!! you got it right and your score is : 4 out of 10\n"
     ]
    }
   ],
   "source": [
    "print('\\t\\t\\t\\t\\t\\tWelcome to \"Guess the number challenge\"')\n",
    "print('\\nIn this game you have to guess the number and for that you will get 10 chances and each time you get it wrong ahit will be generated to help you out.')\n",
    "print('\\t\\t\\t\\t\\t\\t\\tLets get started!!!')\n",
    "game()"
   ]
  }
 ],
 "metadata": {
  "kernelspec": {
   "display_name": "Python 3",
   "language": "python",
   "name": "python3"
  },
  "language_info": {
   "codemirror_mode": {
    "name": "ipython",
    "version": 3
   },
   "file_extension": ".py",
   "mimetype": "text/x-python",
   "name": "python",
   "nbconvert_exporter": "python",
   "pygments_lexer": "ipython3",
   "version": "3.7.6"
  }
 },
 "nbformat": 4,
 "nbformat_minor": 4
}
